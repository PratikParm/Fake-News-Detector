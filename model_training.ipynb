{
  "cells": [
    {
      "cell_type": "code",
      "execution_count": 14,
      "metadata": {
        "id": "mizgqLQ17Pov"
      },
      "outputs": [],
      "source": [
        "import numpy as np # linear algebra\n",
        "import pandas as pd # data processing, CSV file I/O (e.g. pd.read_csv)"
      ]
    },
    {
      "cell_type": "code",
      "execution_count": 15,
      "metadata": {
        "id": "b5XdyfYC7Pox"
      },
      "outputs": [
        {
          "data": {
            "text/html": [
              "<div>\n",
              "<style scoped>\n",
              "    .dataframe tbody tr th:only-of-type {\n",
              "        vertical-align: middle;\n",
              "    }\n",
              "\n",
              "    .dataframe tbody tr th {\n",
              "        vertical-align: top;\n",
              "    }\n",
              "\n",
              "    .dataframe thead th {\n",
              "        text-align: right;\n",
              "    }\n",
              "</style>\n",
              "<table border=\"1\" class=\"dataframe\">\n",
              "  <thead>\n",
              "    <tr style=\"text-align: right;\">\n",
              "      <th></th>\n",
              "      <th>title</th>\n",
              "      <th>text</th>\n",
              "      <th>subject</th>\n",
              "      <th>date</th>\n",
              "      <th>label</th>\n",
              "    </tr>\n",
              "  </thead>\n",
              "  <tbody>\n",
              "    <tr>\n",
              "      <th>0</th>\n",
              "      <td>Ben Stein Calls Out 9th Circuit Court: Committ...</td>\n",
              "      <td>21st Century Wire says Ben Stein, reputable pr...</td>\n",
              "      <td>US_News</td>\n",
              "      <td>February 13, 2017</td>\n",
              "      <td>1</td>\n",
              "    </tr>\n",
              "    <tr>\n",
              "      <th>1</th>\n",
              "      <td>Trump drops Steve Bannon from National Securit...</td>\n",
              "      <td>WASHINGTON (Reuters) - U.S. President Donald T...</td>\n",
              "      <td>politicsNews</td>\n",
              "      <td>April 5, 2017</td>\n",
              "      <td>0</td>\n",
              "    </tr>\n",
              "    <tr>\n",
              "      <th>2</th>\n",
              "      <td>Puerto Rico expects U.S. to lift Jones Act shi...</td>\n",
              "      <td>(Reuters) - Puerto Rico Governor Ricardo Rosse...</td>\n",
              "      <td>politicsNews</td>\n",
              "      <td>September 27, 2017</td>\n",
              "      <td>0</td>\n",
              "    </tr>\n",
              "    <tr>\n",
              "      <th>3</th>\n",
              "      <td>OOPS: Trump Just Accidentally Confirmed He Le...</td>\n",
              "      <td>On Monday, Donald Trump once again embarrassed...</td>\n",
              "      <td>News</td>\n",
              "      <td>May 22, 2017</td>\n",
              "      <td>1</td>\n",
              "    </tr>\n",
              "    <tr>\n",
              "      <th>4</th>\n",
              "      <td>Donald Trump heads for Scotland to reopen a go...</td>\n",
              "      <td>GLASGOW, Scotland (Reuters) - Most U.S. presid...</td>\n",
              "      <td>politicsNews</td>\n",
              "      <td>June 24, 2016</td>\n",
              "      <td>0</td>\n",
              "    </tr>\n",
              "  </tbody>\n",
              "</table>\n",
              "</div>"
            ],
            "text/plain": [
              "                                               title  \\\n",
              "0  Ben Stein Calls Out 9th Circuit Court: Committ...   \n",
              "1  Trump drops Steve Bannon from National Securit...   \n",
              "2  Puerto Rico expects U.S. to lift Jones Act shi...   \n",
              "3   OOPS: Trump Just Accidentally Confirmed He Le...   \n",
              "4  Donald Trump heads for Scotland to reopen a go...   \n",
              "\n",
              "                                                text       subject  \\\n",
              "0  21st Century Wire says Ben Stein, reputable pr...       US_News   \n",
              "1  WASHINGTON (Reuters) - U.S. President Donald T...  politicsNews   \n",
              "2  (Reuters) - Puerto Rico Governor Ricardo Rosse...  politicsNews   \n",
              "3  On Monday, Donald Trump once again embarrassed...          News   \n",
              "4  GLASGOW, Scotland (Reuters) - Most U.S. presid...  politicsNews   \n",
              "\n",
              "                  date  label  \n",
              "0    February 13, 2017      1  \n",
              "1       April 5, 2017       0  \n",
              "2  September 27, 2017       0  \n",
              "3         May 22, 2017      1  \n",
              "4       June 24, 2016       0  "
            ]
          },
          "execution_count": 15,
          "metadata": {},
          "output_type": "execute_result"
        }
      ],
      "source": [
        "fake_df = pd.read_csv('src/data/Fake.csv')\n",
        "true_df = pd.read_csv('src/data/True.csv')\n",
        "\n",
        "# Add label field\n",
        "fake_df['label'] = 1\n",
        "true_df['label'] = 0\n",
        "\n",
        "# Merge the datasets\n",
        "df = pd.concat([fake_df, true_df], axis=0).reset_index(drop=True)\n",
        "\n",
        "# Shuffle the dataset\n",
        "df = df.sample(frac=1, random_state=42).reset_index(drop=True)\n",
        "\n",
        "df.head()"
      ]
    },
    {
      "cell_type": "code",
      "execution_count": 16,
      "metadata": {
        "colab": {
          "base_uri": "https://localhost:8080/"
        },
        "id": "5XUMFU-W7Poy",
        "outputId": "41b1955e-b1ef-49e0-a2b9-14aeab6a5551"
      },
      "outputs": [
        {
          "name": "stdout",
          "output_type": "stream",
          "text": [
            "Duplicate entries: 209\n",
            "Duplicate entries after cleaning: 0\n"
          ]
        }
      ],
      "source": [
        "# Check for duplicates\n",
        "print(f\"Duplicate entries: {df.duplicated().sum()}\")\n",
        "\n",
        "# Drop duplicate entries\n",
        "df = df.drop_duplicates().reset_index(drop=True)\n",
        "print(f\"Duplicate entries after cleaning: {df.duplicated().sum()}\")"
      ]
    },
    {
      "cell_type": "code",
      "execution_count": 17,
      "metadata": {
        "colab": {
          "base_uri": "https://localhost:8080/",
          "height": 241
        },
        "id": "23GQXrmX7Poy",
        "outputId": "a8a188c4-bb82-4afd-9298-72b90e857f36"
      },
      "outputs": [
        {
          "data": {
            "text/plain": [
              "title      0\n",
              "text       0\n",
              "subject    0\n",
              "date       0\n",
              "label      0\n",
              "dtype: int64"
            ]
          },
          "execution_count": 17,
          "metadata": {},
          "output_type": "execute_result"
        }
      ],
      "source": [
        "# Check for missing values\n",
        "df.isna().sum()"
      ]
    },
    {
      "cell_type": "code",
      "execution_count": 18,
      "metadata": {
        "colab": {
          "base_uri": "https://localhost:8080/",
          "height": 582
        },
        "id": "LXKB12JV7Poz",
        "outputId": "070d6284-dc28-41fc-c7c4-b14f8973c2d8"
      },
      "outputs": [
        {
          "data": {
            "text/plain": [
              "Text(0, 0.5, 'Frequency')"
            ]
          },
          "execution_count": 18,
          "metadata": {},
          "output_type": "execute_result"
        },
        {
          "data": {
            "image/png": "[encoded data removed]",
            "text/plain": [
              "<Figure size 800x600 with 1 Axes>"
            ]
          },
          "metadata": {},
          "output_type": "display_data"
        }
      ],
      "source": [
        "# Check the text length distribution\n",
        "import matplotlib.pyplot as plt\n",
        "import seaborn as sns\n",
        "\n",
        "df['text_length'] = df['text'].str.strip().str.len().astype(int)\n",
        "\n",
        "plt.figure(figsize=(8, 6))\n",
        "sns.histplot(df['text_length'], bins=50, kde=True)\n",
        "plt.title(\"Text length distribution\")\n",
        "plt.xlabel('Text length')\n",
        "plt.ylabel('Frequency')"
      ]
    },
    {
      "cell_type": "code",
      "execution_count": 19,
      "metadata": {
        "colab": {
          "base_uri": "https://localhost:8080/"
        },
        "id": "MnGMqjmD7Poz",
        "outputId": "e04efad0-2445-4f75-d935-c5b7591773de"
      },
      "outputs": [
        {
          "name": "stdout",
          "output_type": "stream",
          "text": [
            "Percentage of rows with too long or too short text: 9.30 %\n"
          ]
        }
      ],
      "source": [
        "too_long_or_too_short = len(df[(df['text_length']>5000) | (df['text_length'] < 50)])\n",
        "\n",
        "print(f'Percentage of rows with too long or too short text: {too_long_or_too_short/len(df) * 100:.2f} %')"
      ]
    },
    {
      "cell_type": "markdown",
      "metadata": {
        "id": "hyYv3-Az7Po0"
      },
      "source": [
        "Because the number of rows that have too much or too little words in the text less than 10% of the dataset, we can sefely remove these rows."
      ]
    },
    {
      "cell_type": "code",
      "execution_count": 20,
      "metadata": {
        "id": "JfGGB2ql7Po1"
      },
      "outputs": [],
      "source": [
        "# Drop rows with too much or too little text\n",
        "df1 = df.copy()\n",
        "df1 = df1[(df1[\"text_length\"] > 50) & (df1[\"text_length\"] < 5000)].reset_index(drop=True)"
      ]
    },
    {
      "cell_type": "code",
      "execution_count": 21,
      "metadata": {
        "colab": {
          "base_uri": "https://localhost:8080/",
          "height": 163
        },
        "id": "T-mYpSarMxb2",
        "outputId": "7b1c6e26-a987-4f14-fccd-967798fedc81"
      },
      "outputs": [
        {
          "data": {
            "text/plain": [
              "'GLASGOW, Scotland (Reuters) - Most U.S. presidential candidates go abroad to sharpen their foreign policy credentials. Donald Trump arrives in Scotland on Friday to reopen a golf resort. The presumptive Republican nominee, 70, visits his familys ancestral homeland to showcase his far-flung business empire. His mother was born on Scotlands Isle of Lewis. With a throng of reporters watching, he will make a dramatic arrival by helicopter at his seaside Trump Turnberry resort. He has scheduled a news conference on the 9th hole at noon (7 a.m. ET/1100 GMT). His visit to Turnberry, to be followed by a stop at his resort in Aberdeen on Saturday, will allow him to comment on the outcome of Britains vote on Thursday on whether to remain in the European Union. I dont think opening a golf resort gets you many foreign policy chops, said Saul Anuzis, former chairman of the Michigan Republican Party. But since hes there right in the middle of the EU vote, it may end up being a PR bonanza for him. The risk is that the real-estate tycoon, who has yet to hold public office and rates unfavorably with 70 percent of Americans in an opinion poll, will make a foreign policy misstep at a time when Republican leaders are urging a more serious demeanor. Trump has said he would be inclined to leave the EU. He has exchanged insults with British Prime Minister David Cameron, who has called the New Yorkers anti-immigrant policy ideas divisive and wrong. There are no plans for the two to meet. His trip has baffled Republican officials who say he should concentrate on strengthening his campaign and taking the fight to the presumptive Democratic nominee, former U.S. Secretary of State Hillary Clinton, who is 68. Trump defeated a crowded field of opponents for the Republican nomination but has faced one controversy after another, the latest over his firing of his campaign manager this week, a month before the party convention. His campaign has got all kinds of growing pains and it doesnt make sense that he would spend any kind of time going out of the country, said David Yepsen, director of the Paul Simon Public Policy Institute at Southern Illinois University.  Turnberry is a storied course where the Open Championship has been staged four times. Trump invested $290 million in renovating the resort and golf course on Scotlands West Coast 85 km (53 miles) southwest of Glasgow. He has portrayed his determination to build up courses in Turnberry and Aberdeen and overcome local opposition as an example of the type of leadership skills that Americans would get if he wins the White House on Nov. 8. Well, Scotland has already been won – and so will the United States, Trump wrote in a column for The Press and Journal newspaper in Aberdeen. An Aberdeen family opposed to his development there has threatened to raise a Mexican flag as a reminder of his proposal to build a wall along the U.S. southern border to keep out immigrants who enter illegally. The last Republican presidential nominee, former Massachusetts Governor Mitt Romney, in 2012 made a gaffe-filled campaign trip to London, Jerusalem and Poland. '"
            ]
          },
          "execution_count": 21,
          "metadata": {},
          "output_type": "execute_result"
        }
      ],
      "source": [
        "df1.loc[df1['label']==0, 'text'].iloc[2].replace(\"’\", \"\").replace('“', '').replace('”', \"\")"
      ]
    },
    {
      "cell_type": "code",
      "execution_count": 22,
      "metadata": {
        "colab": {
          "base_uri": "https://localhost:8080/",
          "height": 487
        },
        "id": "CmrUYPhY7Po2",
        "outputId": "00831bd9-11ef-4cb9-c6ed-dcd834d3f08d"
      },
      "outputs": [
        {
          "data": {
            "image/png": "[encoded data removed]",
            "text/plain": [
              "<Figure size 1000x500 with 1 Axes>"
            ]
          },
          "metadata": {},
          "output_type": "display_data"
        }
      ],
      "source": [
        "plt.figure(figsize=(10,5))\n",
        "sns.histplot(df1[\"text_length\"], bins=50, kde=True)\n",
        "plt.xlabel(\"Text length\")\n",
        "plt.ylabel(\"Frequency\")\n",
        "plt.title(\"Text length distribution after filtering\")\n",
        "plt.show()"
      ]
    },
    {
      "cell_type": "markdown",
      "metadata": {
        "id": "aBeKJyKx7Po2"
      },
      "source": [
        "# Feature Extraction"
      ]
    },
    {
      "cell_type": "code",
      "execution_count": 23,
      "metadata": {
        "id": "z0wqzFqE7Po3"
      },
      "outputs": [],
      "source": [
        "# Dropping unnecessary columns\n",
        "df2 = df1.copy()\n",
        "df2.drop(columns=['text_length', 'date'], inplace=True)"
      ]
    },
    {
      "cell_type": "code",
      "execution_count": 24,
      "metadata": {
        "colab": {
          "base_uri": "https://localhost:8080/",
          "height": 467
        },
        "id": "lmBWrHKu7Po3",
        "outputId": "3d8f3402-71f5-47b7-c660-dd30183f468e"
      },
      "outputs": [
        {
          "data": {
            "text/plain": [
              "<Axes: xlabel='label', ylabel='count'>"
            ]
          },
          "execution_count": 24,
          "metadata": {},
          "output_type": "execute_result"
        },
        {
          "data": {
            "image/png": "[encoded data removed]",
            "text/plain": [
              "<Figure size 640x480 with 1 Axes>"
            ]
          },
          "metadata": {},
          "output_type": "display_data"
        }
      ],
      "source": [
        "sns.countplot(x=df2['label'])"
      ]
    },
    {
      "cell_type": "markdown",
      "metadata": {
        "id": "5y9NG9GU7Po3"
      },
      "source": [
        "## TF-IDF Vectorization"
      ]
    },
    {
      "cell_type": "code",
      "execution_count": 25,
      "metadata": {
        "colab": {
          "base_uri": "https://localhost:8080/"
        },
        "id": "t039s5MB7Po3",
        "outputId": "fa3510dc-fc6b-4c03-fb55-eb1d4dcc7b94"
      },
      "outputs": [
        {
          "name": "stdout",
          "output_type": "stream",
          "text": [
            "TF-IDF Feature Shape: (40525, 5000)\n"
          ]
        }
      ],
      "source": [
        "from sklearn.feature_extraction.text import TfidfVectorizer\n",
        "\n",
        "tfidf_vectorizer = TfidfVectorizer(max_features=5000, stop_words='english')\n",
        "\n",
        "# Fit and transform the text data\n",
        "tfidf_vectorizer.fit(df2[\"text\"])\n",
        "X_tfidf = tfidf_vectorizer.transform(df2[\"text\"])\n",
        "\n",
        "# Convert to dense array\n",
        "X_tfidf = X_tfidf.toarray()\n",
        "\n",
        "# Check shape\n",
        "print(\"TF-IDF Feature Shape:\", X_tfidf.shape)"
      ]
    },
    {
      "cell_type": "markdown",
      "metadata": {
        "id": "5qCW-3GY7Po4"
      },
      "source": [
        "## Word Embeddings\n",
        "\n",
        "For word embeddings, I am using pre-train word2vec embedding (GloVe: https://nlp.stanford.edu/pubs/glove.pdf)"
      ]
    },
    {
      "cell_type": "code",
      "execution_count": null,
      "metadata": {
        "colab": {
          "base_uri": "https://localhost:8080/"
        },
        "id": "VH5AuIYv7Po4",
        "outputId": "48607d58-235b-48c7-f331-890af359f5f5"
      },
      "outputs": [
        {
          "name": "stdout",
          "output_type": "stream",
          "text": [
            "Loaded 400000 word vectors.\n",
            "Encoding for dog: [ 0.30817    0.30938    0.52803   -0.92543   -0.73671    0.63475\n",
            "  0.44197    0.10262   -0.09142   -0.56607   -0.5327     0.2013\n",
            "  0.7704    -0.13983    0.13727    1.1128     0.89301   -0.17869\n",
            " -0.0019722  0.57289    0.59479    0.50428   -0.28991   -1.3491\n",
            "  0.42756    1.2748    -1.1613    -0.41084    0.042804   0.54866\n",
            "  0.18897    0.3759     0.58035    0.66975    0.81156    0.93864\n",
            " -0.51005   -0.070079   0.82819   -0.35346    0.21086   -0.24412\n",
            " -0.16554   -0.78358   -0.48482    0.38968   -0.86356   -0.016391\n",
            "  0.31984   -0.49246   -0.069363   0.018869  -0.098286   1.3126\n",
            " -0.12116   -1.2399    -0.091429   0.35294    0.64645    0.089642\n",
            "  0.70294    1.1244     0.38639    0.52084    0.98787    0.79952\n",
            " -0.34625    0.14095    0.80167    0.20987   -0.86007   -0.15308\n",
            "  0.074523   0.40816    0.019208   0.51587   -0.34428   -0.24525\n",
            " -0.77984    0.27425    0.22418    0.20164    0.017431  -0.014697\n",
            " -1.0235    -0.39695   -0.0056188  0.30569    0.31748    0.021404\n",
            "  0.11837   -0.11319    0.42456    0.53405   -0.16717   -0.27185\n",
            " -0.6255     0.12883    0.62529   -0.52086  ]\n"
          ]
        }
      ],
      "source": [
        "embeddings = {}\n",
        "\n",
        "with open('glove.6B.100d.txt', 'r', encoding='utf-8') as f:\n",
        "    for line in f:\n",
        "        values = line.split()\n",
        "        word = values[0]\n",
        "        coefs = np.asarray(values[1:], dtype='float32')\n",
        "        embeddings[word] = coefs\n",
        "\n",
        "print(f\"Loaded {len(embeddings)} word vectors.\")\n",
        "print(f'Encoding for dog: {embeddings.get(\"dog\")}')"
      ]
    },
    {
      "cell_type": "code",
      "execution_count": null,
      "metadata": {
        "colab": {
          "base_uri": "https://localhost:8080/"
        },
        "id": "Ym-U93lg7Po4",
        "outputId": "006ff1a6-5c5b-4d8f-90b2-1878932309c7"
      },
      "outputs": [
        {
          "name": "stdout",
          "output_type": "stream",
          "text": [
            "Word Embedding Shape: (40525, 100)\n"
          ]
        }
      ],
      "source": [
        "def get_sentence_embedding(text):\n",
        "    words = text.split()\n",
        "    word_vectors = [embeddings[word] for word in words if word in embeddings]\n",
        "    return np.mean(word_vectors, axis=0) if word_vectors else np.zeros(100)\n",
        "\n",
        "# Apply function to dataset\n",
        "X_embeddings = np.array([get_sentence_embedding(text) for text in df2[\"text\"]])\n",
        "\n",
        "print(\"Word Embedding Shape:\", X_embeddings.shape)"
      ]
    },
    {
      "cell_type": "code",
      "execution_count": 13,
      "metadata": {},
      "outputs": [
        {
          "data": {
            "text/plain": [
              "'(Reuters) - Puerto Rico Governor Ricardo Rossello said on Wednesday he expected the federal government to waive the Jones Act, which would lift restrictions on ships that can provide aid to the island devastated by Hurricane Maria. He said he has been speaking with members of Congress from both parties who have supported an emergency waiver.  \\xa0\\xa0\\xa0\\xa0“We expect them to waive it,” Rossello said in an interview with CNN. He noted there was a seven-day waiver after Hurricane Irma, which was much less devastating to the island. \\xa0\\xa0\\xa0 On Tuesday, the Trump administration said there was no need to waive shipping restrictions to help get fuel and supplies to storm-ravaged Puerto Rico, saying it would do nothing to address the island’s damaged ports, the main impediment to shipping. A waiver would allow Puerto Rico to get help not only from U.S. ships but from any ships that can bring aid. \\xa0\\xa0\\xa0 “That is critical, particularly for fuel,” he said. “One of the considerations right now is the priority of getting fuel, diesel, gasoline, all across the island. Right now we have enough fuel. We’re limited by the transportation logistics, but at some point of course, getting fuel into the island is going to be critical so that we can have the major functions of telecoms, hospitals, water, to be running appropriately.” \\xa0\\xa0\\xa0 The Jones Act requires that all goods shipped between U.S. ports be carried by American owned-and-operated ships. U.S. Senator John McCain asked acting Department of Homeland Security Secretary Elaine Duke on Tuesday to grant an emergency waiver of the law. He said that Puerto Rican residents would have to pay at least twice as much for food, drinking water and other supplies without the waiver. (This corrected version of the story fixes paragraph four to show the administration has not formally denied a waiver request). '"
            ]
          },
          "execution_count": 13,
          "metadata": {},
          "output_type": "execute_result"
        }
      ],
      "source": [
        "df.iloc[2].text"
      ]
    },
    {
      "cell_type": "markdown",
      "metadata": {
        "id": "3g-1oS_1_wrD"
      },
      "source": [
        "## Transformer Based word embeddings"
      ]
    },
    {
      "cell_type": "code",
      "execution_count": null,
      "metadata": {
        "colab": {
          "base_uri": "https://localhost:8080/"
        },
        "id": "bGMdC6El_Ie8",
        "outputId": "01c8487b-0ebc-43af-ab8a-837a903aeb2f"
      },
      "outputs": [
        {
          "name": "stdout",
          "output_type": "stream",
          "text": [
            "Loading X_bert_embeddings.pkl\n",
            "Embeddings loaded\n"
          ]
        }
      ],
      "source": [
        "import pickle\n",
        "from pathlib import Path\n",
        "\n",
        "if Path('X_bert_embeddings.pkl').is_file():\n",
        "    print('Loading X_bert_embeddings.pkl')\n",
        "\n",
        "    with open('X_bert_embeddings.pkl', 'rb') as f:\n",
        "        X_bert_embeddings = pickle.load(f)\n",
        "    print('Embeddings loaded')\n",
        "else:\n",
        "    print('Generating X_bert_embeddings.pkl')\n",
        "    %pip install transformers torch tqdm -v\n",
        "    from tqdm.notebook import tqdm\n",
        "    import torch\n",
        "    from transformers import DistilBertTokenizer, DistilBertModel\n",
        "\n",
        "    # Check if GPU is available\n",
        "    device = torch.device(\"cuda\" if torch.cuda.is_available() else \"cpu\")\n",
        "    print(f\"Using device: {device}\")\n",
        "\n",
        "    # Load DistilBERT tokenizer & model and move model to GPU\n",
        "    tokenizer = DistilBertTokenizer.from_pretrained(\"distilbert-base-uncased\")\n",
        "    bert_model = DistilBertModel.from_pretrained(\"distilbert-base-uncased\").to(device)\n",
        "\n",
        "    def get_bert_embeddings(text_list, model, tokenizer, device):\n",
        "        tokenized = tokenizer(text_list, padding=True, truncation=True, max_length=512, return_tensors=\"pt\").to(device)\n",
        "\n",
        "        with torch.no_grad():\n",
        "            outputs = model(**tokenized)\n",
        "\n",
        "        return outputs.last_hidden_state.mean(dim=1)  # Mean pooling over token embeddings\n",
        "\n",
        "    # Move Data to GPU Batch by Batch\n",
        "    X_bert_embeddings = []\n",
        "\n",
        "    for text in tqdm(df2['text']):\n",
        "        embedding = get_bert_embeddings([text], bert_model, tokenizer, device)\n",
        "        X_bert_embeddings.append(embedding.cpu())  # Move back to CPU to avoid memory overflow\n",
        "\n",
        "    # Convert List to Tensor\n",
        "    X_bert_embeddings = torch.cat(X_bert_embeddings, dim=0)\n",
        "\n",
        "    print(X_bert_embeddings.shape)\n",
        "\n",
        "    # Save X_bert_embeddings\n",
        "    with open('X_bert_embeddings.pkl', 'wb') as f:\n",
        "        pickle.dump(X_bert_embeddings, f)"
      ]
    },
    {
      "cell_type": "markdown",
      "metadata": {
        "id": "I8pYGvIw7Po4"
      },
      "source": [
        "# Model Training"
      ]
    },
    {
      "cell_type": "markdown",
      "metadata": {
        "id": "7R07KK9X7Po5"
      },
      "source": [
        "## Baseline Model: Logistic Regressor"
      ]
    },
    {
      "cell_type": "code",
      "execution_count": 15,
      "metadata": {
        "colab": {
          "base_uri": "https://localhost:8080/"
        },
        "id": "_HmqZsw37Po5",
        "outputId": "2d179511-05e5-49a6-ae0a-388c84646890"
      },
      "outputs": [
        {
          "name": "stdout",
          "output_type": "stream",
          "text": [
            "Accuracy Score 0.9861813695249846\n",
            "              precision    recall  f1-score   support\n",
            "\n",
            "           0     0.9837    0.9873    0.9855      3862\n",
            "           1     0.9884    0.9852    0.9868      4243\n",
            "\n",
            "    accuracy                         0.9862      8105\n",
            "   macro avg     0.9861    0.9862    0.9862      8105\n",
            "weighted avg     0.9862    0.9862    0.9862      8105\n",
            "\n"
          ]
        }
      ],
      "source": [
        "from sklearn.model_selection import train_test_split\n",
        "from sklearn.linear_model import LogisticRegression\n",
        "from sklearn.metrics import classification_report, accuracy_score\n",
        "\n",
        "y = df2['label'].to_numpy()\n",
        "\n",
        "X_train, X_test, y_train, y_test = train_test_split(X_tfidf, y, test_size=0.2, random_state=42)\n",
        "\n",
        "logistic_regressor = LogisticRegression()\n",
        "\n",
        "logistic_regressor.fit(X_train, y_train)\n",
        "\n",
        "y_pred_logistic = logistic_regressor.predict(X_test)\n",
        "\n",
        "print(f'Accuracy Score', accuracy_score(y_test, y_pred_logistic))\n",
        "print(classification_report(y_test, y_pred_logistic, digits=4))"
      ]
    },
    {
      "cell_type": "code",
      "execution_count": 16,
      "metadata": {
        "colab": {
          "base_uri": "https://localhost:8080/",
          "height": 449
        },
        "id": "11ct6a9-pmBv",
        "outputId": "80b9c40b-c632-4431-b9b7-a105167169a7"
      },
      "outputs": [
        {
          "data": {
            "image/png": "[encoded data removed]",
            "text/plain": [
              "<Figure size 640x480 with 2 Axes>"
            ]
          },
          "metadata": {},
          "output_type": "display_data"
        }
      ],
      "source": [
        "from sklearn.metrics import confusion_matrix\n",
        "\n",
        "sns.heatmap(confusion_matrix(y_test, y_pred_logistic), annot=True, fmt='d')\n",
        "plt.xlabel('Predicted')\n",
        "plt.ylabel('Actual')\n",
        "plt.show()"
      ]
    },
    {
      "cell_type": "code",
      "execution_count": 17,
      "metadata": {
        "colab": {
          "base_uri": "https://localhost:8080/"
        },
        "id": "X8oEw_B07Po5",
        "outputId": "b3e26260-5a89-480c-8aef-44750e41a38b"
      },
      "outputs": [
        {
          "name": "stdout",
          "output_type": "stream",
          "text": [
            "Training Accuracy: 0.9905\n",
            "Test Accuracy: 0.9862\n",
            "Cross-Validation Scores: [0.98433066 0.9885256  0.98556447 0.9879087  0.98618137]\n",
            "Mean CV Accuracy: 0.9865021591610116\n"
          ]
        }
      ],
      "source": [
        "# Checking for overfitting\n",
        "from sklearn.model_selection import cross_val_score\n",
        "\n",
        "train_acc = logistic_regressor.score(X_train, y_train)\n",
        "test_acc = logistic_regressor.score(X_test, y_test)\n",
        "\n",
        "print(f\"Training Accuracy: {train_acc:.4f}\")\n",
        "print(f\"Test Accuracy: {test_acc:.4f}\")\n",
        "\n",
        "cv_scores = cross_val_score(logistic_regressor, X_tfidf, y, cv=5)\n",
        "print(\"Cross-Validation Scores:\", cv_scores)\n",
        "print(\"Mean CV Accuracy:\", cv_scores.mean())\n"
      ]
    },
    {
      "cell_type": "markdown",
      "metadata": {
        "id": "E8tIWLjC7Po5"
      },
      "source": [
        "We don't suspect any overfitting. The model performs very well!"
      ]
    },
    {
      "cell_type": "code",
      "execution_count": 34,
      "metadata": {
        "id": "loMXQrXBH_6O"
      },
      "outputs": [],
      "source": [
        "import joblib\n",
        "\n",
        "with open('src/model/logistic_regressor.mod', 'wb') as f:\n",
        "    joblib.dump(logistic_regressor, f)\n",
        "with open(vectorizer_path, 'wb') as f:\n",
        "    joblib.dump(tfidf_vectorizer, f)"
      ]
    },
    {
      "cell_type": "code",
      "execution_count": 33,
      "metadata": {},
      "outputs": [
        {
          "ename": "FileNotFoundError",
          "evalue": "[Errno 2] No such file or directory: 'src\\\\model\\\\tfidf_vectorizer.mod'",
          "output_type": "error",
          "traceback": [
            "\u001b[1;31m---------------------------------------------------------------------------\u001b[0m",
            "\u001b[1;31mFileNotFoundError\u001b[0m                         Traceback (most recent call last)",
            "Cell \u001b[1;32mIn[33], line 9\u001b[0m\n\u001b[0;32m      6\u001b[0m \u001b[38;5;28;01mwith\u001b[39;00m \u001b[38;5;28mopen\u001b[39m(model_path, \u001b[38;5;124m\"\u001b[39m\u001b[38;5;124mrb\u001b[39m\u001b[38;5;124m\"\u001b[39m) \u001b[38;5;28;01mas\u001b[39;00m f:\n\u001b[0;32m      7\u001b[0m     model \u001b[38;5;241m=\u001b[39m joblib\u001b[38;5;241m.\u001b[39mload(f)\n\u001b[1;32m----> 9\u001b[0m \u001b[38;5;28;01mwith\u001b[39;00m \u001b[38;5;28;43mopen\u001b[39;49m\u001b[43m(\u001b[49m\u001b[43mvectorizer_path\u001b[49m\u001b[43m,\u001b[49m\u001b[43m \u001b[49m\u001b[38;5;124;43m\"\u001b[39;49m\u001b[38;5;124;43mrb\u001b[39;49m\u001b[38;5;124;43m\"\u001b[39;49m\u001b[43m)\u001b[49m \u001b[38;5;28;01mas\u001b[39;00m f:\n\u001b[0;32m     10\u001b[0m     vectorizer \u001b[38;5;241m=\u001b[39m pickle\u001b[38;5;241m.\u001b[39mload(f)\n",
            "File \u001b[1;32mc:\\Users\\sprua\\miniconda3\\envs\\ML\\lib\\site-packages\\IPython\\core\\interactiveshell.py:324\u001b[0m, in \u001b[0;36m_modified_open\u001b[1;34m(file, *args, **kwargs)\u001b[0m\n\u001b[0;32m    317\u001b[0m \u001b[38;5;28;01mif\u001b[39;00m file \u001b[38;5;129;01min\u001b[39;00m {\u001b[38;5;241m0\u001b[39m, \u001b[38;5;241m1\u001b[39m, \u001b[38;5;241m2\u001b[39m}:\n\u001b[0;32m    318\u001b[0m     \u001b[38;5;28;01mraise\u001b[39;00m \u001b[38;5;167;01mValueError\u001b[39;00m(\n\u001b[0;32m    319\u001b[0m         \u001b[38;5;124mf\u001b[39m\u001b[38;5;124m\"\u001b[39m\u001b[38;5;124mIPython won\u001b[39m\u001b[38;5;124m'\u001b[39m\u001b[38;5;124mt let you open fd=\u001b[39m\u001b[38;5;132;01m{\u001b[39;00mfile\u001b[38;5;132;01m}\u001b[39;00m\u001b[38;5;124m by default \u001b[39m\u001b[38;5;124m\"\u001b[39m\n\u001b[0;32m    320\u001b[0m         \u001b[38;5;124m\"\u001b[39m\u001b[38;5;124mas it is likely to crash IPython. If you know what you are doing, \u001b[39m\u001b[38;5;124m\"\u001b[39m\n\u001b[0;32m    321\u001b[0m         \u001b[38;5;124m\"\u001b[39m\u001b[38;5;124myou can use builtins\u001b[39m\u001b[38;5;124m'\u001b[39m\u001b[38;5;124m open.\u001b[39m\u001b[38;5;124m\"\u001b[39m\n\u001b[0;32m    322\u001b[0m     )\n\u001b[1;32m--> 324\u001b[0m \u001b[38;5;28;01mreturn\u001b[39;00m io_open(file, \u001b[38;5;241m*\u001b[39margs, \u001b[38;5;241m*\u001b[39m\u001b[38;5;241m*\u001b[39mkwargs)\n",
            "\u001b[1;31mFileNotFoundError\u001b[0m: [Errno 2] No such file or directory: 'src\\\\model\\\\tfidf_vectorizer.mod'"
          ]
        }
      ],
      "source": [
        "from pathlib import Path\n",
        "# Load the saved model and TF-IDF vectorizer\n",
        "model_path = Path('src/model/logistic_regressor.mod')\n",
        "vectorizer_path = Path('src/model/tfidf_vectorizer.mod')\n",
        "\n",
        "with open(model_path, \"rb\") as f:\n",
        "    model = joblib.load(f)\n",
        "\n",
        "with open(vectorizer_path, \"rb\") as f:\n",
        "    vectorizer = pickle.load(f)"
      ]
    },
    {
      "cell_type": "code",
      "execution_count": 32,
      "metadata": {},
      "outputs": [
        {
          "data": {
            "text/plain": [
              "1"
            ]
          },
          "execution_count": 32,
          "metadata": {},
          "output_type": "execute_result"
        }
      ],
      "source": [
        "text = pd.read_csv(\"src/data/True.csv\").text\n",
        "text_vector = tfidf_vectorizer.transform(text).toarray()\n",
        "model.predict(text_vector).max()"
      ]
    },
    {
      "cell_type": "code",
      "execution_count": 40,
      "metadata": {
        "colab": {
          "base_uri": "https://localhost:8080/"
        },
        "id": "9ltXI8-gQB16",
        "outputId": "00ef10cd-4bf1-467f-d9a1-2bb7481782d3"
      },
      "outputs": [
        {
          "data": {
            "text/plain": [
              "array([1])"
            ]
          },
          "execution_count": 40,
          "metadata": {},
          "output_type": "execute_result"
        }
      ],
      "source": [
        "texts = tfidf_vectorizer.transform([df1.loc[df1['label']==1, 'text'].iloc[2]])\n",
        "texts = texts.toarray()\n",
        "logistic_regressor.predict(texts)"
      ]
    },
    {
      "cell_type": "markdown",
      "metadata": {
        "id": "EDDf5Y7s7Po5"
      },
      "source": [
        "## LSTM"
      ]
    },
    {
      "cell_type": "code",
      "execution_count": null,
      "metadata": {
        "colab": {
          "base_uri": "https://localhost:8080/"
        },
        "id": "QTegX68X7Po5",
        "outputId": "cd6b3d0d-c4fa-40ea-b814-4b3124bc6ffe"
      },
      "outputs": [
        {
          "name": "stdout",
          "output_type": "stream",
          "text": [
            "Epoch 1/5\n",
            "\u001b[1m1014/1014\u001b[0m \u001b[32m━━━━━━━━━━━━━━━━━━━━\u001b[0m\u001b[37m\u001b[0m \u001b[1m23s\u001b[0m 15ms/step - accuracy: 0.5266 - loss: 0.6881 - val_accuracy: 0.7078 - val_loss: 0.5840\n",
            "Epoch 2/5\n",
            "\u001b[1m1014/1014\u001b[0m \u001b[32m━━━━━━━━━━━━━━━━━━━━\u001b[0m\u001b[37m\u001b[0m \u001b[1m15s\u001b[0m 15ms/step - accuracy: 0.7063 - loss: 0.5846 - val_accuracy: 0.7078 - val_loss: 0.5805\n",
            "Epoch 3/5\n",
            "\u001b[1m1014/1014\u001b[0m \u001b[32m━━━━━━━━━━━━━━━━━━━━\u001b[0m\u001b[37m\u001b[0m \u001b[1m22s\u001b[0m 16ms/step - accuracy: 0.6797 - loss: 0.5966 - val_accuracy: 0.7076 - val_loss: 0.5844\n",
            "Epoch 4/5\n",
            "\u001b[1m1014/1014\u001b[0m \u001b[32m━━━━━━━━━━━━━━━━━━━━\u001b[0m\u001b[37m\u001b[0m \u001b[1m17s\u001b[0m 13ms/step - accuracy: 0.7101 - loss: 0.5817 - val_accuracy: 0.7078 - val_loss: 0.5814\n",
            "Epoch 5/5\n",
            "\u001b[1m1014/1014\u001b[0m \u001b[32m━━━━━━━━━━━━━━━━━━━━\u001b[0m\u001b[37m\u001b[0m \u001b[1m15s\u001b[0m 15ms/step - accuracy: 0.7061 - loss: 0.5800 - val_accuracy: 0.7077 - val_loss: 0.5806\n"
          ]
        },
        {
          "data": {
            "text/plain": [
              "<keras.src.callbacks.history.History at 0x7d7fdf7aa1d0>"
            ]
          },
          "execution_count": 25,
          "metadata": {},
          "output_type": "execute_result"
        }
      ],
      "source": [
        "import tensorflow as tf\n",
        "from tensorflow.keras.models import Sequential\n",
        "from tensorflow.keras.layers import LSTM, Dense, Embedding, Dropout\n",
        "\n",
        "# Define LSTM Model\n",
        "model = Sequential([\n",
        "    Embedding(input_dim=5000, output_dim=100),\n",
        "    LSTM(128, return_sequences=True),  # First LSTM Layer\n",
        "    Dropout(0.5),\n",
        "    LSTM(64, return_sequences=False),  # Second LSTM Layer\n",
        "    Dropout(0.5),\n",
        "    Dense(1, activation='sigmoid')\n",
        "])\n",
        "\n",
        "# Compile Model\n",
        "model.compile(loss='binary_crossentropy', optimizer='adam', metrics=['accuracy'])\n",
        "\n",
        "# Train Model\n",
        "model.fit(X_embeddings, y, batch_size=32, epochs=5, validation_split=0.2)\n"
      ]
    },
    {
      "cell_type": "code",
      "execution_count": 18,
      "metadata": {
        "colab": {
          "base_uri": "https://localhost:8080/"
        },
        "id": "DICbFK9PkJnf",
        "outputId": "2e1dbb18-a0dc-46a5-eb7c-d04fbf4639bd"
      },
      "outputs": [
        {
          "name": "stdout",
          "output_type": "stream",
          "text": [
            "Epoch 1/5\n",
            "\u001b[1m811/811\u001b[0m \u001b[32m━━━━━━━━━━━━━━━━━━━━\u001b[0m\u001b[37m\u001b[0m \u001b[1m27s\u001b[0m 15ms/step - accuracy: 0.9118 - loss: 0.2398 - val_accuracy: 0.9800 - val_loss: 0.0590\n",
            "Epoch 2/5\n",
            "\u001b[1m811/811\u001b[0m \u001b[32m━━━━━━━━━━━━━━━━━━━━\u001b[0m\u001b[37m\u001b[0m \u001b[1m11s\u001b[0m 13ms/step - accuracy: 0.9779 - loss: 0.0631 - val_accuracy: 0.9866 - val_loss: 0.0405\n",
            "Epoch 3/5\n",
            "\u001b[1m811/811\u001b[0m \u001b[32m━━━━━━━━━━━━━━━━━━━━\u001b[0m\u001b[37m\u001b[0m \u001b[1m15s\u001b[0m 7ms/step - accuracy: 0.9807 - loss: 0.0551 - val_accuracy: 0.9849 - val_loss: 0.0424\n",
            "Epoch 4/5\n",
            "\u001b[1m811/811\u001b[0m \u001b[32m━━━━━━━━━━━━━━━━━━━━\u001b[0m\u001b[37m\u001b[0m \u001b[1m11s\u001b[0m 8ms/step - accuracy: 0.9854 - loss: 0.0415 - val_accuracy: 0.9884 - val_loss: 0.0319\n",
            "Epoch 5/5\n",
            "\u001b[1m811/811\u001b[0m \u001b[32m━━━━━━━━━━━━━━━━━━━━\u001b[0m\u001b[37m\u001b[0m \u001b[1m10s\u001b[0m 8ms/step - accuracy: 0.9832 - loss: 0.0470 - val_accuracy: 0.9892 - val_loss: 0.0318\n",
            "\u001b[1m254/254\u001b[0m \u001b[32m━━━━━━━━━━━━━━━━━━━━\u001b[0m\u001b[37m\u001b[0m \u001b[1m1s\u001b[0m 2ms/step\n",
            "              precision    recall  f1-score   support\n",
            "\n",
            "           0     0.9861    0.9891    0.9876      3862\n",
            "           1     0.9901    0.9873    0.9887      4243\n",
            "\n",
            "    accuracy                         0.9882      8105\n",
            "   macro avg     0.9881    0.9882    0.9881      8105\n",
            "weighted avg     0.9882    0.9882    0.9882      8105\n",
            "\n"
          ]
        }
      ],
      "source": [
        "import tensorflow as tf\n",
        "from tensorflow.keras.models import Sequential\n",
        "from tensorflow.keras.layers import LSTM, Dense, Embedding, Dropout\n",
        "\n",
        "# Define LSTM Model\n",
        "model2 = Sequential([\n",
        "    # Embedding(input_dim=5000, output_dim=100), # Remove Embedding layer as we are using pre-trained embeddings\n",
        "    LSTM(128, return_sequences=True),  # First LSTM Layer\n",
        "    Dropout(0.5),\n",
        "    LSTM(64, return_sequences=False),  # Second LSTM Layer\n",
        "    Dropout(0.5),\n",
        "    Dense(1, activation='sigmoid')\n",
        "])\n",
        "\n",
        "optimizer = tf.keras.optimizers.Adam(learning_rate=0.0005)\n",
        "# Compile Model\n",
        "model2.compile(loss='binary_crossentropy', optimizer=optimizer, metrics=['accuracy'])\n",
        "\n",
        "# Train Model\n",
        "# Convert X_bert_embeddings to NumPy array with float32 data type\n",
        "X_bert_embeddings_np = X_bert_embeddings.cpu().numpy().astype('float32')\n",
        "X_bert_embeddings_np = X_bert_embeddings_np.reshape(X_bert_embeddings_np.shape[0], 1, X_bert_embeddings_np.shape[1])\n",
        "\n",
        "# Split the data into training and testing sets\n",
        "X_train, X_test, y_train, y_test = train_test_split(\n",
        "    X_bert_embeddings.cpu().numpy().astype('float32'),  # Convert to NumPy array\n",
        "    y,\n",
        "    test_size=0.2,  # Proportion of data for testing\n",
        "    random_state=42  # Set random seed for reproducibility\n",
        ")\n",
        "\n",
        "# Reshape the training and testing data\n",
        "X_train = X_train.reshape(X_train.shape[0], 1, X_train.shape[1])\n",
        "X_test = X_test.reshape(X_test.shape[0], 1, X_test.shape[1])\n",
        "\n",
        "# Train the model on the training set\n",
        "model2.fit(X_train, y_train, batch_size=32, epochs=5, validation_split=0.2)\n",
        "\n",
        "# Evaluate the model on the testing set\n",
        "y_pred_probs = model2.predict(X_test)\n",
        "y_pred_labels = (y_pred_probs > 0.5).astype(int)\n",
        "\n",
        "print(classification_report(y_test, y_pred_labels, digits=4))"
      ]
    },
    {
      "cell_type": "code",
      "execution_count": 19,
      "metadata": {
        "colab": {
          "base_uri": "https://localhost:8080/",
          "height": 449
        },
        "id": "-K-xB8Y6pSBo",
        "outputId": "cc8e95b4-27f3-4fb7-f2a2-ddeab3aacb8e"
      },
      "outputs": [
        {
          "data": {
            "image/png": "[encoded data removed]",
            "text/plain": [
              "<Figure size 640x480 with 2 Axes>"
            ]
          },
          "metadata": {},
          "output_type": "display_data"
        }
      ],
      "source": [
        "sns.heatmap(confusion_matrix(y_test, y_pred_labels), annot=True, fmt='d')\n",
        "plt.xlabel('Predicted')\n",
        "plt.ylabel('Actual')\n",
        "plt.show()"
      ]
    },
    {
      "cell_type": "code",
      "execution_count": 20,
      "metadata": {
        "colab": {
          "base_uri": "https://localhost:8080/"
        },
        "id": "ZuNRPnyA9INT",
        "outputId": "2a9db97a-465c-471a-be8e-daa31ddc47f4"
      },
      "outputs": [
        {
          "name": "stdout",
          "output_type": "stream",
          "text": [
            "Epoch 1/5\n",
            "\u001b[1m811/811\u001b[0m \u001b[32m━━━━━━━━━━━━━━━━━━━━\u001b[0m\u001b[37m\u001b[0m \u001b[1m13s\u001b[0m 10ms/step - accuracy: 0.9429 - loss: 1.5150 - val_accuracy: 0.9252 - val_loss: 0.2973\n",
            "Epoch 2/5\n",
            "\u001b[1m811/811\u001b[0m \u001b[32m━━━━━━━━━━━━━━━━━━━━\u001b[0m\u001b[37m\u001b[0m \u001b[1m8s\u001b[0m 10ms/step - accuracy: 0.9631 - loss: 0.1967 - val_accuracy: 0.9650 - val_loss: 0.1790\n",
            "Epoch 3/5\n",
            "\u001b[1m811/811\u001b[0m \u001b[32m━━━━━━━━━━━━━━━━━━━━\u001b[0m\u001b[37m\u001b[0m \u001b[1m10s\u001b[0m 10ms/step - accuracy: 0.9660 - loss: 0.1858 - val_accuracy: 0.9746 - val_loss: 0.1605\n",
            "Epoch 4/5\n",
            "\u001b[1m811/811\u001b[0m \u001b[32m━━━━━━━━━━━━━━━━━━━━\u001b[0m\u001b[37m\u001b[0m \u001b[1m10s\u001b[0m 9ms/step - accuracy: 0.9649 - loss: 0.1817 - val_accuracy: 0.9668 - val_loss: 0.1758\n",
            "Epoch 5/5\n",
            "\u001b[1m811/811\u001b[0m \u001b[32m━━━━━━━━━━━━━━━━━━━━\u001b[0m\u001b[37m\u001b[0m \u001b[1m11s\u001b[0m 11ms/step - accuracy: 0.9679 - loss: 0.1752 - val_accuracy: 0.9844 - val_loss: 0.1306\n",
            "\u001b[1m254/254\u001b[0m \u001b[32m━━━━━━━━━━━━━━━━━━━━\u001b[0m\u001b[37m\u001b[0m \u001b[1m1s\u001b[0m 3ms/step\n",
            "              precision    recall  f1-score   support\n",
            "\n",
            "           0     0.9772    0.9899    0.9835      3862\n",
            "           1     0.9907    0.9790    0.9848      4243\n",
            "\n",
            "    accuracy                         0.9842      8105\n",
            "   macro avg     0.9840    0.9845    0.9842      8105\n",
            "weighted avg     0.9843    0.9842    0.9842      8105\n",
            "\n"
          ]
        }
      ],
      "source": [
        "import tensorflow as tf\n",
        "from tensorflow.keras.models import Sequential\n",
        "from tensorflow.keras.layers import LSTM, Dense, Embedding, Dropout\n",
        "from tensorflow.keras.layers import BatchNormalization\n",
        "from tensorflow.keras.regularizers import l2\n",
        "\n",
        "# Define LSTM Model\n",
        "model3 =Sequential([\n",
        "    # Embedding(input_dim=5000, output_dim=100),\n",
        "    LSTM(128, return_sequences=True, kernel_regularizer=l2(0.01)),\n",
        "    BatchNormalization(),  # Normalize activations\n",
        "    Dropout(0.5),\n",
        "    LSTM(64, return_sequences=False),\n",
        "    BatchNormalization(),\n",
        "    Dropout(0.5),\n",
        "    Dense(1, activation='sigmoid')\n",
        "])\n",
        "\n",
        "# Compile Model\n",
        "model3.compile(loss='binary_crossentropy', optimizer='adam', metrics=['accuracy'])\n",
        "\n",
        "# Train the model on the training set\n",
        "model3.fit(X_train, y_train, batch_size=32, epochs=5, validation_split=0.2)\n",
        "\n",
        "# Evaluate the model on the testing set\n",
        "y_pred_probs = model3.predict(X_test)\n",
        "y_pred_labels = (y_pred_probs > 0.5).astype(int)\n",
        "\n",
        "print(classification_report(y_test, y_pred_labels, digits=4))\n"
      ]
    },
    {
      "cell_type": "code",
      "execution_count": 21,
      "metadata": {
        "colab": {
          "base_uri": "https://localhost:8080/",
          "height": 449
        },
        "id": "bvUIYam8qpmg",
        "outputId": "447c7af2-a957-4e0b-93d4-a2179c8b4a89"
      },
      "outputs": [
        {
          "data": {
            "image/png": "[encoded data removed]",
            "text/plain": [
              "<Figure size 640x480 with 2 Axes>"
            ]
          },
          "metadata": {},
          "output_type": "display_data"
        }
      ],
      "source": [
        "sns.heatmap(confusion_matrix(y_test, y_pred_labels), annot=True, fmt='d')\n",
        "plt.xlabel('Predicted')\n",
        "plt.ylabel('Actual')\n",
        "plt.show()"
      ]
    },
    {
      "cell_type": "markdown",
      "metadata": {
        "id": "Bh7srsYCqzeF"
      },
      "source": [
        "## Logistic regression with Transformer Embeddings"
      ]
    },
    {
      "cell_type": "code",
      "execution_count": 23,
      "metadata": {
        "colab": {
          "base_uri": "https://localhost:8080/"
        },
        "id": "8qpPjtO4qyKb",
        "outputId": "d035e392-9037-405d-c9d5-72f1f0560f51"
      },
      "outputs": [
        {
          "name": "stdout",
          "output_type": "stream",
          "text": [
            "Accuracy Score 0.9914867365823565\n",
            "              precision    recall  f1-score   support\n",
            "\n",
            "           0     0.9879    0.9943    0.9911      3862\n",
            "           1     0.9948    0.9889    0.9918      4243\n",
            "\n",
            "    accuracy                         0.9915      8105\n",
            "   macro avg     0.9913    0.9916    0.9915      8105\n",
            "weighted avg     0.9915    0.9915    0.9915      8105\n",
            "\n"
          ]
        }
      ],
      "source": [
        "from sklearn.model_selection import train_test_split\n",
        "from sklearn.linear_model import LogisticRegression\n",
        "from sklearn.metrics import classification_report, accuracy_score\n",
        "\n",
        "logistic_regressor_with_embeddings = LogisticRegression()\n",
        "\n",
        "X_train_reshaped = X_train.reshape(X_train.shape[0], X_train.shape[2])\n",
        "X_test_reshaped = X_test.reshape(X_test.shape[0], X_test.shape[2])\n",
        "logistic_regressor_with_embeddings.fit(X_train_reshaped, y_train)\n",
        "\n",
        "y_pred_logistic = logistic_regressor_with_embeddings.predict(X_test_reshaped)\n",
        "\n",
        "print(f'Accuracy Score', accuracy_score(y_test, y_pred_logistic))\n",
        "print(classification_report(y_test, y_pred_logistic, digits=4))"
      ]
    },
    {
      "cell_type": "markdown",
      "metadata": {},
      "source": [
        "The logisitc regressor with IDF Vectorized text vectors give a comparable performance with the best model while being simpler than the transformer embeddings. So we select the base model as the best model."
      ]
    },
    {
      "cell_type": "code",
      "execution_count": 36,
      "metadata": {
        "id": "VIIFPFC9zFSP"
      },
      "outputs": [],
      "source": [
        "import joblib\n",
        "\n",
        "with open('src/model/fake_news_detector.mod','wb') as f:\n",
        "    joblib.dump(logistic_regressor, f)"
      ]
    }
  ],
  "metadata": {
    "accelerator": "GPU",
    "colab": {
      "gpuType": "T4",
      "provenance": []
    },
    "kaggle": {
      "accelerator": "none",
      "dataSources": [
        {
          "datasetId": 4831777,
          "sourceId": 8165591,
          "sourceType": "datasetVersion"
        },
        {
          "datasetId": 6756115,
          "sourceId": 10873791,
          "sourceType": "datasetVersion"
        }
      ],
      "dockerImageVersionId": 30918,
      "isGpuEnabled": false,
      "isInternetEnabled": false,
      "language": "python",
      "sourceType": "notebook"
    },
    "kernelspec": {
      "display_name": "ML",
      "language": "python",
      "name": "python3"
    },
    "language_info": {
      "codemirror_mode": {
        "name": "ipython",
        "version": 3
      },
      "file_extension": ".py",
      "mimetype": "text/x-python",
      "name": "python",
      "nbconvert_exporter": "python",
      "pygments_lexer": "ipython3",
      "version": "3.10.16"
    }
  },
  "nbformat": 4,
  "nbformat_minor": 0
}
